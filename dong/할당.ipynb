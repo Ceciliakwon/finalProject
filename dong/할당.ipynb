{
 "cells": [
  {
   "cell_type": "code",
   "execution_count": 2,
   "metadata": {},
   "outputs": [],
   "source": [
    "import numpy as np\n",
    "import pandas as pd\n",
    "import re\n",
    "import time as t\n",
    "import sys\n",
    "\n",
    "import nltk\n",
    "from nltk.corpus import stopwords\n",
    "nltk.download\n",
    "from nltk.tokenize import word_tokenize"
   ]
  },
  {
   "cell_type": "code",
   "execution_count": 3,
   "metadata": {},
   "outputs": [
    {
     "data": {
      "text/html": [
       "<div>\n",
       "<style scoped>\n",
       "    .dataframe tbody tr th:only-of-type {\n",
       "        vertical-align: middle;\n",
       "    }\n",
       "\n",
       "    .dataframe tbody tr th {\n",
       "        vertical-align: top;\n",
       "    }\n",
       "\n",
       "    .dataframe thead th {\n",
       "        text-align: right;\n",
       "    }\n",
       "</style>\n",
       "<table border=\"1\" class=\"dataframe\">\n",
       "  <thead>\n",
       "    <tr style=\"text-align: right;\">\n",
       "      <th></th>\n",
       "      <th>show_id</th>\n",
       "      <th>type</th>\n",
       "      <th>title</th>\n",
       "      <th>director</th>\n",
       "      <th>cast</th>\n",
       "      <th>country</th>\n",
       "      <th>date_added</th>\n",
       "      <th>release_year</th>\n",
       "      <th>rating</th>\n",
       "      <th>duration</th>\n",
       "      <th>listed_in</th>\n",
       "      <th>description</th>\n",
       "    </tr>\n",
       "  </thead>\n",
       "  <tbody>\n",
       "    <tr>\n",
       "      <th>0</th>\n",
       "      <td>s1</td>\n",
       "      <td>TV Show</td>\n",
       "      <td>3%</td>\n",
       "      <td>NaN</td>\n",
       "      <td>João Miguel, Bianca Comparato, Michel Gomes, R...</td>\n",
       "      <td>Brazil</td>\n",
       "      <td>August 14, 2020</td>\n",
       "      <td>2020</td>\n",
       "      <td>TV-MA</td>\n",
       "      <td>4 Seasons</td>\n",
       "      <td>International TV Shows, TV Dramas, TV Sci-Fi &amp;...</td>\n",
       "      <td>In a future where the elite inhabit an island ...</td>\n",
       "    </tr>\n",
       "    <tr>\n",
       "      <th>1</th>\n",
       "      <td>s2</td>\n",
       "      <td>Movie</td>\n",
       "      <td>7:19</td>\n",
       "      <td>Jorge Michel Grau</td>\n",
       "      <td>Demián Bichir, Héctor Bonilla, Oscar Serrano, ...</td>\n",
       "      <td>Mexico</td>\n",
       "      <td>December 23, 2016</td>\n",
       "      <td>2016</td>\n",
       "      <td>TV-MA</td>\n",
       "      <td>93 min</td>\n",
       "      <td>Dramas, International Movies</td>\n",
       "      <td>After a devastating earthquake hits Mexico Cit...</td>\n",
       "    </tr>\n",
       "    <tr>\n",
       "      <th>2</th>\n",
       "      <td>s3</td>\n",
       "      <td>Movie</td>\n",
       "      <td>23:59</td>\n",
       "      <td>Gilbert Chan</td>\n",
       "      <td>Tedd Chan, Stella Chung, Henley Hii, Lawrence ...</td>\n",
       "      <td>Singapore</td>\n",
       "      <td>December 20, 2018</td>\n",
       "      <td>2011</td>\n",
       "      <td>R</td>\n",
       "      <td>78 min</td>\n",
       "      <td>Horror Movies, International Movies</td>\n",
       "      <td>When an army recruit is found dead, his fellow...</td>\n",
       "    </tr>\n",
       "    <tr>\n",
       "      <th>3</th>\n",
       "      <td>s4</td>\n",
       "      <td>Movie</td>\n",
       "      <td>9</td>\n",
       "      <td>Shane Acker</td>\n",
       "      <td>Elijah Wood, John C. Reilly, Jennifer Connelly...</td>\n",
       "      <td>United States</td>\n",
       "      <td>November 16, 2017</td>\n",
       "      <td>2009</td>\n",
       "      <td>PG-13</td>\n",
       "      <td>80 min</td>\n",
       "      <td>Action &amp; Adventure, Independent Movies, Sci-Fi...</td>\n",
       "      <td>In a postapocalyptic world, rag-doll robots hi...</td>\n",
       "    </tr>\n",
       "    <tr>\n",
       "      <th>4</th>\n",
       "      <td>s5</td>\n",
       "      <td>Movie</td>\n",
       "      <td>21</td>\n",
       "      <td>Robert Luketic</td>\n",
       "      <td>Jim Sturgess, Kevin Spacey, Kate Bosworth, Aar...</td>\n",
       "      <td>United States</td>\n",
       "      <td>January 1, 2020</td>\n",
       "      <td>2008</td>\n",
       "      <td>PG-13</td>\n",
       "      <td>123 min</td>\n",
       "      <td>Dramas</td>\n",
       "      <td>A brilliant group of students become card-coun...</td>\n",
       "    </tr>\n",
       "  </tbody>\n",
       "</table>\n",
       "</div>"
      ],
      "text/plain": [
       "  show_id     type  title           director  \\\n",
       "0      s1  TV Show     3%                NaN   \n",
       "1      s2    Movie   7:19  Jorge Michel Grau   \n",
       "2      s3    Movie  23:59       Gilbert Chan   \n",
       "3      s4    Movie      9        Shane Acker   \n",
       "4      s5    Movie     21     Robert Luketic   \n",
       "\n",
       "                                                cast        country  \\\n",
       "0  João Miguel, Bianca Comparato, Michel Gomes, R...         Brazil   \n",
       "1  Demián Bichir, Héctor Bonilla, Oscar Serrano, ...         Mexico   \n",
       "2  Tedd Chan, Stella Chung, Henley Hii, Lawrence ...      Singapore   \n",
       "3  Elijah Wood, John C. Reilly, Jennifer Connelly...  United States   \n",
       "4  Jim Sturgess, Kevin Spacey, Kate Bosworth, Aar...  United States   \n",
       "\n",
       "          date_added  release_year rating   duration  \\\n",
       "0    August 14, 2020          2020  TV-MA  4 Seasons   \n",
       "1  December 23, 2016          2016  TV-MA     93 min   \n",
       "2  December 20, 2018          2011      R     78 min   \n",
       "3  November 16, 2017          2009  PG-13     80 min   \n",
       "4    January 1, 2020          2008  PG-13    123 min   \n",
       "\n",
       "                                           listed_in  \\\n",
       "0  International TV Shows, TV Dramas, TV Sci-Fi &...   \n",
       "1                       Dramas, International Movies   \n",
       "2                Horror Movies, International Movies   \n",
       "3  Action & Adventure, Independent Movies, Sci-Fi...   \n",
       "4                                             Dramas   \n",
       "\n",
       "                                         description  \n",
       "0  In a future where the elite inhabit an island ...  \n",
       "1  After a devastating earthquake hits Mexico Cit...  \n",
       "2  When an army recruit is found dead, his fellow...  \n",
       "3  In a postapocalyptic world, rag-doll robots hi...  \n",
       "4  A brilliant group of students become card-coun...  "
      ]
     },
     "execution_count": 3,
     "metadata": {},
     "output_type": "execute_result"
    }
   ],
   "source": [
    "data = pd.read_csv(\"C:/dong/basic/data/netflix_titles.csv\")\n",
    "data.head()"
   ]
  },
  {
   "cell_type": "code",
   "execution_count": 10,
   "metadata": {},
   "outputs": [
    {
     "data": {
      "text/plain": [
       "show_id            0\n",
       "type               0\n",
       "title              0\n",
       "director        2389\n",
       "cast             718\n",
       "country          507\n",
       "date_added        10\n",
       "release_year       0\n",
       "rating             7\n",
       "duration           0\n",
       "listed_in          0\n",
       "description        0\n",
       "dtype: int64"
      ]
     },
     "execution_count": 10,
     "metadata": {},
     "output_type": "execute_result"
    }
   ],
   "source": [
    "data.isna().sum()"
   ]
  },
  {
   "cell_type": "code",
   "execution_count": 4,
   "metadata": {},
   "outputs": [],
   "source": [
    "a1 = data.index[data['director'].isnull()]\n",
    "a2 = data.index[data['cast'].isnull()]\n",
    "a3 = data.index[data['country'].isnull()]\n",
    "a4 = data.index[data['date_added'].isnull()]\n",
    "a5 = data.index[data['rating'].isnull()]\n",
    "a= [a1, a2, a3, a4, a5]\n",
    "\n",
    "b1 = a[0][0:597] # 민준\n",
    "b2 = a[0][597:1194]\n",
    "b3 = a[0][1194:1791]\n",
    "b4 = a[0][1791:] # 태동\n",
    "b= [b1,b2,b3,b4]"
   ]
  },
  {
   "cell_type": "code",
   "execution_count": 5,
   "metadata": {},
   "outputs": [],
   "source": [
    "df = pd.DataFrame(b)\n",
    "df2 = df.T\n",
    "df2.to_csv(\"b.csv\")"
   ]
  },
  {
   "cell_type": "code",
   "execution_count": 15,
   "metadata": {},
   "outputs": [
    {
     "data": {
      "text/plain": [
       "False"
      ]
     },
     "execution_count": 15,
     "metadata": {},
     "output_type": "execute_result"
    }
   ],
   "source": [
    "data.loc[0,\"director\"] == 'fffffff'#\n"
   ]
  },
  {
   "cell_type": "code",
   "execution_count": 21,
   "metadata": {},
   "outputs": [],
   "source": [
    "# cast\n",
    "cast = []\n",
    "for i in range(len(a2)):\n",
    "    if a2[i] not in a1:\n",
    "        cast.append(a2[i])"
   ]
  },
  {
   "cell_type": "code",
   "execution_count": 25,
   "metadata": {
    "scrolled": true
   },
   "outputs": [
    {
     "name": "stdout",
     "output_type": "stream",
     "text": [
      "[12, 25, 30, 35, 56, 66, 70, 101, 146, 182, 193, 194, 195, 200, 207, 223, 237, 252, 281, 325, 326, 327, 328, 401, 414, 435, 442, 456, 460, 462, 470, 484, 557, 611, 620, 645, 673, 732, 780, 810, 813, 832, 877, 889, 935, 955, 967, 1005, 1007, 1020, 1054, 1055, 1085, 1131, 1137, 1142, 1175, 1177, 1203, 1204, 1221, 1230, 1237, 1244, 1248, 1290, 1333, 1395, 1401, 1402, 1413, 1451, 1474, 1480, 1500, 1505, 1507, 1514, 1544, 1548, 1552, 1626, 1627, 1698, 1750, 1815, 1838, 1854, 1863, 1899, 1902, 1957, 1968, 1971, 1979, 1983, 1984, 1996, 2001, 2039, 2040, 2052, 2062, 2076, 2107, 2132, 2146, 2172, 2177, 2178, 2190, 2195, 2216, 2220, 2222, 2239, 2240, 2245, 2254, 2260, 2294, 2316, 2321, 2370, 2371, 2404, 2442, 2464, 2521, 2541, 2544, 2548, 2552, 2635, 2646, 2653, 2710, 2736, 2757, 2759, 2760, 2781, 2803, 2814, 2815, 2820, 2821, 2842, 2852, 2861, 2889, 2901, 2907, 2910, 2924, 2939, 2984, 2996, 3044, 3055, 3059, 3068, 3074, 3097, 3162, 3196, 3200, 3222, 3236, 3333, 3335, 3402, 3403, 3486, 3496, 3510, 3537, 3554, 3555, 3602, 3605, 3606, 3622, 3625, 3629, 3644, 3668, 3670, 3672, 3712, 3723, 3724, 3727, 3792, 3879, 3957, 4001, 4017, 4029, 4040, 4058, 4069, 4089, 4142, 4148, 4176, 4195, 4205, 4229, 4242, 4243, 4301, 4342, 4384, 4394, 4418, 4421, 4436, 4455, 4468, 4481, 4501, 4514, 4527, 4530, 4537, 4538, 4549, 4550, 4587, 4597, 4600, 4629, 4647, 4651, 4670, 4683, 4702, 4703, 4727, 4732, 4747, 4772, 4776, 4790, 4825, 4830, 4852, 4866, 4883, 4893, 4960, 4972, 4976, 5019, 5056, 5068, 5104, 5131, 5148, 5149, 5150, 5151, 5153, 5154, 5155, 5172, 5224, 5229, 5257, 5259, 5275, 5279, 5280, 5308, 5320, 5329, 5332, 5333, 5352, 5371, 5378, 5444, 5475, 5569, 5605, 5607, 5619, 5643, 5655, 5687, 5694, 5720, 5730, 5748, 5749, 5784, 5825, 5827, 5847, 5852, 5856, 5860, 5863, 5929, 5964, 6001, 6002, 6017, 6018, 6051, 6061, 6074, 6085, 6109, 6122, 6123, 6124, 6133, 6134, 6143, 6152, 6196, 6226, 6237, 6278, 6292, 6297, 6323, 6345, 6365, 6387, 6420, 6446, 6466, 6469, 6513, 6514, 6567, 6577, 6580, 6583, 6612, 6615, 6625, 6654, 6657, 6666, 6688, 6699, 6712, 6720, 6747, 6754, 6772, 6793, 6797, 6803, 6809, 6812, 6815, 6824, 6854, 6860, 6871, 6891, 6897, 6912, 6917, 6927, 6935, 6980, 6997, 7011, 7037, 7051, 7083, 7114, 7115, 7131, 7202, 7203, 7205, 7235, 7285, 7291, 7315, 7321, 7331, 7342, 7364, 7397, 7433, 7459, 7476, 7490, 7491, 7498, 7511, 7515, 7519, 7552, 7559, 7562, 7564, 7567, 7579, 7585, 7611, 7614, 7616, 7626, 7633, 7636, 7647, 7658, 7679, 7686, 7786]\n",
      "=====================================================\n",
      "[6122, 6123, 6124, 6133, 6134, 6143, 6152, 6196, 6226, 6237, 6278, 6292, 6297, 6323, 6345, 6365, 6387, 6420, 6446, 6466, 6469, 6513, 6514, 6567, 6577, 6580, 6583, 6612, 6615, 6625, 6654, 6657, 6666, 6688, 6699, 6712, 6720, 6747, 6754, 6772, 6793, 6797, 6803, 6809, 6812, 6815, 6824, 6854, 6860, 6871, 6891, 6897, 6912, 6917, 6927, 6935, 6980, 6997, 7011, 7037, 7051, 7083, 7114, 7115, 7131, 7202, 7203, 7205, 7235, 7285, 7291, 7315, 7321, 7331, 7342, 7364, 7397, 7433, 7459, 7476, 7490, 7491, 7498, 7511, 7515, 7519, 7552, 7559, 7562, 7564, 7567, 7579, 7585, 7611, 7614, 7616, 7626, 7633, 7636, 7647, 7658, 7679, 7686, 7786]\n"
     ]
    }
   ],
   "source": [
    "print(c)\n",
    "cast1 = cast[0:105] # 민준\n",
    "cast2 = cast[105:210] # 윤정\n",
    "cast3 = cast[210:315] # 태영\n",
    "cast4 = cast[315:419] # 태동\n",
    "print(\"=====================================================\")\n",
    "print(cast4)"
   ]
  },
  {
   "cell_type": "code",
   "execution_count": 39,
   "metadata": {},
   "outputs": [],
   "source": [
    "# country\n",
    "country = []\n",
    "for i in range(len(a3)):\n",
    "    if a3[i] not in a1:\n",
    "        country.append(a3[i])\n",
    "    elif a3[i] not in a2:\n",
    "        if a3[i] not in country:\n",
    "            country.append(a2[i])\n",
    "countries = []\n",
    "for i in country:\n",
    "    if i not in countries:\n",
    "        countries.append(i)\n",
    "countries.sort()\n",
    "print(countries)\n",
    "len(countries)"
   ]
  },
  {
   "cell_type": "code",
   "execution_count": 42,
   "metadata": {},
   "outputs": [
    {
     "name": "stdout",
     "output_type": "stream",
     "text": [
      "[12, 25, 26, 52, 97, 117, 130, 178, 179, 194, 195, 204, 223, 242, 281, 311, 365, 366, 369, 401, 414, 428, 436, 442, 456, 470, 484, 509, 525, 533, 548, 557, 611, 624, 657, 658, 659, 661, 662, 673, 678, 680, 686, 704, 706, 768, 769, 782, 800, 804, 832, 842, 847, 851, 877, 889, 935, 967, 1007, 1018, 1021, 1085, 1094, 1103, 1140, 1142, 1175, 1176, 1177, 1189, 1203, 1204, 1208, 1221, 1230, 1244, 1252, 1299, 1305, 1306, 1307, 1318, 1319, 1320, 1327, 1333, 1340, 1355, 1376, 1377, 1378, 1380, 1395, 1402, 1413, 1444, 1451, 1454, 1458, 1492, 1500, 1503, 1505, 1508, 1533, 1542, 1548, 1552, 1632, 1659, 1714, 1746, 1750, 1754, 1755, 1768, 1838, 1840, 1854, 1864, 1880, 1898, 1902, 1957, 1958, 1961, 1968, 1971, 1979, 1983, 1984, 2052, 2057, 2058, 2062, 2065, 2068, 2076, 2087, 2101, 2107, 2132, 2155, 2158, 2168, 2177, 2178, 2186, 2190, 2207, 2216, 2220, 2222, 2235, 2239, 2245, 2260, 2268, 2272, 2276, 2285, 2316, 2320, 2321, 2328, 2342, 2344, 2347, 2368, 2370, 2415, 2430, 2442, 2464, 2521, 2528, 2548, 2552, 2595, 2635, 2641, 2646, 2710, 2727, 2751, 2779, 2789, 2790, 2791, 2815, 2820, 2821, 2842, 2846, 2852, 2861, 2886, 2887, 2910, 2952, 2967, 2984, 2996, 3013, 3014, 3016, 3044, 3059, 3068, 3078, 3089, 3113, 3173, 3178, 3187, 3194, 3198, 3200, 3222, 3236, 3327, 3333, 3402, 3403, 3445, 3446, 3447, 3449, 3451, 3470, 3484, 3494, 3496, 3500, 3510, 3522, 3533, 3537, 3562, 3584, 3597, 3598, 3618, 3619, 3622, 3629, 3644, 3654, 3655, 3668, 3670, 3671, 3672, 3673, 3674, 3690, 3694, 3715, 3723, 3724, 3726, 3735, 3801, 3814, 3863, 3879, 3894, 3943, 3957, 3958, 3981, 3987, 4002, 4017, 4024, 4069, 4083, 4103, 4104, 4148, 4176, 4187, 4195, 4205, 4209, 4226, 4229, 4243, 4245, 4256, 4291, 4292, 4301, 4338, 4341, 4344, 4368, 4384, 4394, 4422, 4437, 4441, 4455, 4468, 4504, 4514, 4538, 4547, 4549, 4553, 4587, 4594, 4595, 4600, 4629, 4647, 4670, 4683, 4688, 4702, 4703, 4704, 4710, 4727, 4747, 4772, 4788, 4790, 4820, 4825, 4830, 4839, 4841, 4852, 4863, 4885, 4893, 4972, 4976, 5019, 5035, 5044, 5068, 5079, 5103, 5104, 5108, 5116, 5131, 5140, 5148, 5150, 5151, 5153, 5154, 5155, 5172, 5198, 5212, 5221, 5224, 5229, 5257, 5279, 5280, 5287, 5308, 5309, 5320, 5323, 5329, 5332, 5352, 5369, 5383, 5395, 5396, 5421, 5444, 5475, 5489, 5512, 5533, 5605, 5616, 5807, 5893, 5901, 5979, 5996, 6015, 6040, 6078, 6122, 6133, 6134, 6185, 6352, 6410, 6411, 6435, 6465, 6577, 6610, 6696, 6747, 6814, 6855, 6978, 6982, 6994, 7053, 7054, 7055, 7067, 7134, 7208, 7220, 7264, 7353, 7403, 7541, 7603, 7643, 7644, 7656, 7671, 7719, 7739, 7765]\n"
     ]
    },
    {
     "data": {
      "text/plain": [
       "430"
      ]
     },
     "execution_count": 42,
     "metadata": {},
     "output_type": "execute_result"
    }
   ],
   "source": [
    "cc1 = countries[0:108] #민준\n",
    "cc2 = countries[108:216] # 윤정\n",
    "cc3 = countries[216:323] # 태영\n",
    "cc4 = countries[323:] # 태동\n",
    "print(cc1)"
   ]
  },
  {
   "cell_type": "markdown",
   "metadata": {},
   "source": [
    "## 각자 찾은 것들을 리스트 화 시켜두기"
   ]
  },
  {
   "cell_type": "code",
   "execution_count": null,
   "metadata": {},
   "outputs": [],
   "source": [
    "C_director = []\n",
    "C_cast = []\n",
    "C_country = []"
   ]
  },
  {
   "cell_type": "code",
   "execution_count": null,
   "metadata": {},
   "outputs": [],
   "source": []
  }
 ],
 "metadata": {
  "kernelspec": {
   "display_name": "Python 3",
   "language": "python",
   "name": "python3"
  },
  "language_info": {
   "codemirror_mode": {
    "name": "ipython",
    "version": 3
   },
   "file_extension": ".py",
   "mimetype": "text/x-python",
   "name": "python",
   "nbconvert_exporter": "python",
   "pygments_lexer": "ipython3",
   "version": "3.8.3"
  }
 },
 "nbformat": 4,
 "nbformat_minor": 4
}
